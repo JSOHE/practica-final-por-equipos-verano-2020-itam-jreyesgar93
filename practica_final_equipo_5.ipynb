{
 "cells": [
  {
   "cell_type": "markdown",
   "metadata": {},
   "source": [
    "# Práctica Final por Equipos\n",
    "\n",
    "### Equipo 5\n",
    "- Ita Santiago\n",
    "- Mario Hernandez\n",
    "- José Reyes \n"
   ]
  },
  {
   "cell_type": "code",
   "execution_count": 19,
   "metadata": {},
   "outputs": [],
   "source": [
    "from data_cleaning import *\n",
    "import numpy as np\n",
    "import matplotlib.pyplot as plt\n",
    "import os"
   ]
  },
  {
   "cell_type": "code",
   "execution_count": 8,
   "metadata": {},
   "outputs": [],
   "source": [
    "directorio = os.getcwd()\n",
    "df_raw=pd.read_csv(directorio+\"\\\\Video_Games_Sales_as_at_22_Dec_2016.csv\")"
   ]
  },
  {
   "cell_type": "markdown",
   "metadata": {},
   "source": [
    "### Introducción"
   ]
  },
  {
   "cell_type": "markdown",
   "metadata": {},
   "source": [
    "El objetivo de esta trabajo es presentar los resultados análisis de ventas de videojuegos así como una descripción de todo el proceso. Se describirá a detalle, la base de datos utilizada así como un análisis exploratorio inicial para facilitar la limpieza y tratamiento de los datos. Además **llenar aqui con las otras secciones**. También se incluirá una descripción de los paquetes y funciones utilizadas para este trabajo."
   ]
  },
  {
   "cell_type": "markdown",
   "metadata": {},
   "source": [
    "### Base de datos y análsis exploratorio inicial"
   ]
  },
  {
   "cell_type": "markdown",
   "metadata": {},
   "source": [
    "Para este análisis, utilizamos una [base de datos](https://www.kaggle.com/rush4ratio/video-game-sales-with-ratings?select=Video_Games_Sales_as_at_22_Dec_2016.csv) de ventas de videojuegos a diciembre de 2016. Esta base de datos se obtuvo de Kaggle del usuario [Rush Kirubi](https://www.kaggle.com/rush4ratio). La base de datos se descargó de forma local en formato csv convirtió a dataframe para su análisis.\n",
    "\n",
    "\n",
    "La base de datos contiene el nombre del videojuego, año de lanzamiento, plataforma, género, rating y creador. Además contiene sus ventas por region, y calificación de críticos y usuarios. Cada renglon de la base de datos representa una observación. Las columnas del dataframe son:"
   ]
  },
  {
   "cell_type": "code",
   "execution_count": 5,
   "metadata": {},
   "outputs": [
    {
     "name": "stdout",
     "output_type": "stream",
     "text": [
      "Index(['Name', 'Platform', 'Year_of_Release', 'Genre', 'Publisher', 'NA_Sales',\n",
      "       'EU_Sales', 'JP_Sales', 'Other_Sales', 'Global_Sales', 'Critic_Score',\n",
      "       'Critic_Count', 'User_Score', 'User_Count', 'Developer', 'Rating'],\n",
      "      dtype='object')\n"
     ]
    }
   ],
   "source": [
    "print(df.columns)"
   ]
  },
  {
   "cell_type": "markdown",
   "metadata": {},
   "source": [
    "En esta primera fase, fue necesario explorar los datos para asegurar que pudiera realizarse un analisis estadístico correctamente. Esta fase incluyo revisar lo siguiente:\n",
    "- Variables  del tipo correcto\n",
    "- Valores faltantes (nan/None)\n",
    "- Presencia de datos atípicos\n",
    "- Revisar las categorías de las variables categóricas. \n",
    "\n",
    "El resultado de la revisión de tipo de variables fue el siguiente:"
   ]
  },
  {
   "cell_type": "code",
   "execution_count": 12,
   "metadata": {},
   "outputs": [
    {
     "data": {
      "text/plain": [
       "Name                object\n",
       "Platform            object\n",
       "Year_of_Release    float64\n",
       "Genre               object\n",
       "Publisher           object\n",
       "NA_Sales           float64\n",
       "EU_Sales           float64\n",
       "JP_Sales           float64\n",
       "Other_Sales        float64\n",
       "Global_Sales       float64\n",
       "Critic_Score       float64\n",
       "Critic_Count       float64\n",
       "User_Score          object\n",
       "User_Count         float64\n",
       "Developer           object\n",
       "Rating              object\n",
       "dtype: object"
      ]
     },
     "execution_count": 12,
     "metadata": {},
     "output_type": "execute_result"
    }
   ],
   "source": [
    "df_raw.dtypes"
   ]
  },
  {
   "cell_type": "markdown",
   "metadata": {},
   "source": [
    "Notamos una inconsistencia en la variable User_Score, se registó como object en cuando debería ser float64. Observamos los valores que toma esta variabe y notamos que existe una observación \"tbd\", por lo que debe ser sustituida por nan para que pueda ser procesada correctamente como variable float."
   ]
  },
  {
   "cell_type": "code",
   "execution_count": 13,
   "metadata": {
    "scrolled": true
   },
   "outputs": [
    {
     "data": {
      "text/plain": [
       "array(['8', nan, '8.3', '8.5', '6.6', '8.4', '8.6', '7.7', '6.3', '7.4',\n",
       "       '8.2', '9', '7.9', '8.1', '8.7', '7.1', '3.4', '5.3', '4.8', '3.2',\n",
       "       '8.9', '6.4', '7.8', '7.5', '2.6', '7.2', '9.2', '7', '7.3', '4.3',\n",
       "       '7.6', '5.7', '5', '9.1', '6.5', 'tbd', '8.8', '6.9', '9.4', '6.8',\n",
       "       '6.1', '6.7', '5.4', '4', '4.9', '4.5', '9.3', '6.2', '4.2', '6',\n",
       "       '3.7', '4.1', '5.8', '5.6', '5.5', '4.4', '4.6', '5.9', '3.9',\n",
       "       '3.1', '2.9', '5.2', '3.3', '4.7', '5.1', '3.5', '2.5', '1.9', '3',\n",
       "       '2.7', '2.2', '2', '9.5', '2.1', '3.6', '2.8', '1.8', '3.8', '0',\n",
       "       '1.6', '9.6', '2.4', '1.7', '1.1', '0.3', '1.5', '0.7', '1.2',\n",
       "       '2.3', '0.5', '1.3', '0.2', '0.6', '1.4', '0.9', '1', '9.7'],\n",
       "      dtype=object)"
      ]
     },
     "execution_count": 13,
     "metadata": {},
     "output_type": "execute_result"
    }
   ],
   "source": [
    "df_raw.User_Score.unique()"
   ]
  },
  {
   "cell_type": "markdown",
   "metadata": {},
   "source": [
    "Después se revisó la presencia de valores faltantes. Se encontró que 2 observaciones no tenían nombre y que 269 no tenían año de publicación. Se decidió que estas dos variables eran fundamentales, por lo que se debían eliminar las observaciones que no contaran con estos datos. "
   ]
  },
  {
   "cell_type": "code",
   "execution_count": 17,
   "metadata": {},
   "outputs": [
    {
     "name": "stdout",
     "output_type": "stream",
     "text": [
      "Antes\n",
      "Name                  2\n",
      "Platform              0\n",
      "Year_of_Release     269\n",
      "Genre                 2\n",
      "Publisher            54\n",
      "NA_Sales              0\n",
      "EU_Sales              0\n",
      "JP_Sales              0\n",
      "Other_Sales           0\n",
      "Global_Sales          0\n",
      "Critic_Score       8582\n",
      "Critic_Count       8582\n",
      "User_Score         6704\n",
      "User_Count         9129\n",
      "Developer          6623\n",
      "Rating             6769\n",
      "dtype: int64\n"
     ]
    }
   ],
   "source": [
    "print(\"Antes\")\n",
    "print(df_raw.isna().sum())\n"
   ]
  },
  {
   "cell_type": "code",
   "execution_count": 16,
   "metadata": {},
   "outputs": [
    {
     "name": "stdout",
     "output_type": "stream",
     "text": [
      "Después\n",
      "Name                  0\n",
      "Platform              0\n",
      "Year_of_Release       0\n",
      "Genre                 0\n",
      "Publisher            32\n",
      "NA_Sales              0\n",
      "EU_Sales              0\n",
      "JP_Sales              0\n",
      "Other_Sales           0\n",
      "Global_Sales          0\n",
      "Critic_Score       8465\n",
      "Critic_Count       8465\n",
      "User_Score         8985\n",
      "User_Count         8985\n",
      "Developer          6541\n",
      "Rating             6679\n",
      "dtype: int64\n"
     ]
    }
   ],
   "source": [
    "print(\"Después\")\n",
    "print(df.isna().sum())"
   ]
  },
  {
   "cell_type": "markdown",
   "metadata": {},
   "source": [
    "También fue necesario revisar que las variables númericas se encontraran dentro de los rangos permitidos. Las variables númericas son:\n",
    "           \n",
    "          'NA_Sales','EU_Sales', 'JP_Sales', 'Other_Sales', 'Global_Sales', 'Critic_Score',\n",
    "       'Critic_Count', 'User_Score', 'User_Count'\n",
    "       \n",
    "Para buscar datos atípicos en 'Critic_Score' y 'User_Score' se utilizó una gráfica box-plot. Primero identificamos el rango de las variables, en el caso de 'Critic_Score' era de 0 a 100 mientras que en 'User_Score' fue de 0-10. Se decidió homologar ambas esclalas al transformar 'User-Score' multiplicandola por 10. De esta forma ambos box-plots tendrían el mismo rango de valores. \n",
    "\n"
   ]
  },
  {
   "cell_type": "code",
   "execution_count": 23,
   "metadata": {},
   "outputs": [
    {
     "data": {
      "text/plain": [
       "[Text(0, 0, 'User Score')]"
      ]
     },
     "execution_count": 23,
     "metadata": {},
     "output_type": "execute_result"
    },
    {
     "data": {
      "image/png": "[encoded data removed]",
      "text/plain": [
       "<Figure size 432x288 with 2 Axes>"
      ]
     },
     "metadata": {
      "needs_background": "light"
     },
     "output_type": "display_data"
    }
   ],
   "source": [
    "fig1,axs=plt.subplots(1,2,sharey=True)\n",
    "fig1.suptitle(\"Box-Plot of Scores\")\n",
    "axs[0].boxplot(df.Critic_Score[~np.isnan(df.Critic_Score)])\n",
    "axs[0].set_xticklabels([\"Critic Score\"])\n",
    "axs[1].boxplot(df.User_Score[~np.isnan(df.User_Score)])\n",
    "axs[1].set_xticklabels([\"User Score\"])\n"
   ]
  },
  {
   "cell_type": "markdown",
   "metadata": {},
   "source": [
    "Las gráficas muestran no hay valores fuera del rango permitido. Notamos que muchos datos se encuentran dispersos en el primer cuartil, sin embargo no podriamos considerarlos valores atípicos por errores de medición/captura ya que están dentro del rango de calificación permitido. Para el resto de las variables, se utilizó el método describe de Pandas. \n"
   ]
  },
  {
   "cell_type": "code",
   "execution_count": 24,
   "metadata": {},
   "outputs": [
    {
     "data": {
      "text/html": [
       "<div>\n",
       "<style scoped>\n",
       "    .dataframe tbody tr th:only-of-type {\n",
       "        vertical-align: middle;\n",
       "    }\n",
       "\n",
       "    .dataframe tbody tr th {\n",
       "        vertical-align: top;\n",
       "    }\n",
       "\n",
       "    .dataframe thead th {\n",
       "        text-align: right;\n",
       "    }\n",
       "</style>\n",
       "<table border=\"1\" class=\"dataframe\">\n",
       "  <thead>\n",
       "    <tr style=\"text-align: right;\">\n",
       "      <th></th>\n",
       "      <th>Year_of_Release</th>\n",
       "      <th>NA_Sales</th>\n",
       "      <th>EU_Sales</th>\n",
       "      <th>JP_Sales</th>\n",
       "      <th>Other_Sales</th>\n",
       "      <th>Global_Sales</th>\n",
       "      <th>Critic_Score</th>\n",
       "      <th>Critic_Count</th>\n",
       "      <th>User_Count</th>\n",
       "    </tr>\n",
       "  </thead>\n",
       "  <tbody>\n",
       "    <tr>\n",
       "      <th>count</th>\n",
       "      <td>16448.000000</td>\n",
       "      <td>16448.000000</td>\n",
       "      <td>16448.000000</td>\n",
       "      <td>16448.000000</td>\n",
       "      <td>16448.000000</td>\n",
       "      <td>16448.00000</td>\n",
       "      <td>7983.000000</td>\n",
       "      <td>7983.000000</td>\n",
       "      <td>7463.000000</td>\n",
       "    </tr>\n",
       "    <tr>\n",
       "      <th>mean</th>\n",
       "      <td>2006.488996</td>\n",
       "      <td>0.263965</td>\n",
       "      <td>0.145895</td>\n",
       "      <td>0.078472</td>\n",
       "      <td>0.047583</td>\n",
       "      <td>0.53617</td>\n",
       "      <td>68.994363</td>\n",
       "      <td>26.441313</td>\n",
       "      <td>163.015141</td>\n",
       "    </tr>\n",
       "    <tr>\n",
       "      <th>std</th>\n",
       "      <td>5.877470</td>\n",
       "      <td>0.818286</td>\n",
       "      <td>0.506660</td>\n",
       "      <td>0.311064</td>\n",
       "      <td>0.187984</td>\n",
       "      <td>1.55846</td>\n",
       "      <td>13.920060</td>\n",
       "      <td>19.008136</td>\n",
       "      <td>563.863327</td>\n",
       "    </tr>\n",
       "    <tr>\n",
       "      <th>min</th>\n",
       "      <td>1980.000000</td>\n",
       "      <td>0.000000</td>\n",
       "      <td>0.000000</td>\n",
       "      <td>0.000000</td>\n",
       "      <td>0.000000</td>\n",
       "      <td>0.01000</td>\n",
       "      <td>13.000000</td>\n",
       "      <td>3.000000</td>\n",
       "      <td>4.000000</td>\n",
       "    </tr>\n",
       "    <tr>\n",
       "      <th>25%</th>\n",
       "      <td>2003.000000</td>\n",
       "      <td>0.000000</td>\n",
       "      <td>0.000000</td>\n",
       "      <td>0.000000</td>\n",
       "      <td>0.000000</td>\n",
       "      <td>0.06000</td>\n",
       "      <td>60.000000</td>\n",
       "      <td>12.000000</td>\n",
       "      <td>10.000000</td>\n",
       "    </tr>\n",
       "    <tr>\n",
       "      <th>50%</th>\n",
       "      <td>2007.000000</td>\n",
       "      <td>0.080000</td>\n",
       "      <td>0.020000</td>\n",
       "      <td>0.000000</td>\n",
       "      <td>0.010000</td>\n",
       "      <td>0.17000</td>\n",
       "      <td>71.000000</td>\n",
       "      <td>22.000000</td>\n",
       "      <td>24.000000</td>\n",
       "    </tr>\n",
       "    <tr>\n",
       "      <th>75%</th>\n",
       "      <td>2010.000000</td>\n",
       "      <td>0.240000</td>\n",
       "      <td>0.110000</td>\n",
       "      <td>0.040000</td>\n",
       "      <td>0.030000</td>\n",
       "      <td>0.47000</td>\n",
       "      <td>79.000000</td>\n",
       "      <td>36.000000</td>\n",
       "      <td>81.000000</td>\n",
       "    </tr>\n",
       "    <tr>\n",
       "      <th>max</th>\n",
       "      <td>2020.000000</td>\n",
       "      <td>41.360000</td>\n",
       "      <td>28.960000</td>\n",
       "      <td>10.220000</td>\n",
       "      <td>10.570000</td>\n",
       "      <td>82.53000</td>\n",
       "      <td>98.000000</td>\n",
       "      <td>113.000000</td>\n",
       "      <td>10665.000000</td>\n",
       "    </tr>\n",
       "  </tbody>\n",
       "</table>\n",
       "</div>"
      ],
      "text/plain": [
       "       Year_of_Release      NA_Sales      EU_Sales      JP_Sales  \\\n",
       "count     16448.000000  16448.000000  16448.000000  16448.000000   \n",
       "mean       2006.488996      0.263965      0.145895      0.078472   \n",
       "std           5.877470      0.818286      0.506660      0.311064   \n",
       "min        1980.000000      0.000000      0.000000      0.000000   \n",
       "25%        2003.000000      0.000000      0.000000      0.000000   \n",
       "50%        2007.000000      0.080000      0.020000      0.000000   \n",
       "75%        2010.000000      0.240000      0.110000      0.040000   \n",
       "max        2020.000000     41.360000     28.960000     10.220000   \n",
       "\n",
       "        Other_Sales  Global_Sales  Critic_Score  Critic_Count    User_Count  \n",
       "count  16448.000000   16448.00000   7983.000000   7983.000000   7463.000000  \n",
       "mean       0.047583       0.53617     68.994363     26.441313    163.015141  \n",
       "std        0.187984       1.55846     13.920060     19.008136    563.863327  \n",
       "min        0.000000       0.01000     13.000000      3.000000      4.000000  \n",
       "25%        0.000000       0.06000     60.000000     12.000000     10.000000  \n",
       "50%        0.010000       0.17000     71.000000     22.000000     24.000000  \n",
       "75%        0.030000       0.47000     79.000000     36.000000     81.000000  \n",
       "max       10.570000      82.53000     98.000000    113.000000  10665.000000  "
      ]
     },
     "execution_count": 24,
     "metadata": {},
     "output_type": "execute_result"
    }
   ],
   "source": [
    "df_summary"
   ]
  },
  {
   "cell_type": "markdown",
   "metadata": {},
   "source": [
    "La tabla anterior nos da información similar a la de un box-plot. Para las variables de ventas y count, los valores mínimos y máximos se encuentran dentro de valores realistas. Además, destaca una gran diferencia entre el valor del tercer cuartil y el valor máximo. Esta diferencia puede ser atribuida a que existen algunos juegos muy populares que generan muchas ventas y atraen a más usuarios y críticos. A pesar de tener valores atípicos, es muy poco probable que sean atribuidos a errores de medición o de captura. "
   ]
  },
  {
   "cell_type": "markdown",
   "metadata": {},
   "source": [
    "Por último, se revisaron los factores de las variables categoricas, buscando que los valores no estuvieran duplicados o con algún error. En este caso no fue necesaria ninguna modificación."
   ]
  },
  {
   "cell_type": "code",
   "execution_count": 42,
   "metadata": {},
   "outputs": [
    {
     "name": "stdout",
     "output_type": "stream",
     "text": [
      "PS2     2127\n",
      "DS      2122\n",
      "PS3     1306\n",
      "Wii     1286\n",
      "X360    1232\n",
      "Name: Platform, dtype: int64\n",
      "2008.0    1427\n",
      "2009.0    1426\n",
      "2010.0    1255\n",
      "2007.0    1197\n",
      "2011.0    1136\n",
      "Name: Year_of_Release, dtype: int64\n",
      "Action          3308\n",
      "Sports          2306\n",
      "Misc            1721\n",
      "Role-Playing    1483\n",
      "Shooter         1296\n",
      "Name: Genre, dtype: int64\n",
      "Electronic Arts                 1344\n",
      "Activision                       976\n",
      "Namco Bandai Games               935\n",
      "Ubisoft                          930\n",
      "Konami Digital Entertainment     825\n",
      "Name: Publisher, dtype: int64\n",
      "E       3922\n",
      "T       2905\n",
      "M       1536\n",
      "E10+    1393\n",
      "EC         8\n",
      "Name: Rating, dtype: int64\n"
     ]
    }
   ],
   "source": [
    "for i in cat_data_counts.values():\n",
    "    print(i.head(n=5))"
   ]
  },
  {
   "cell_type": "markdown",
   "metadata": {},
   "source": [
    "Tras revisar todas estas carácteristicas, la base de datos podría ser utilizada para un analisis estadístico mas profundo."
   ]
  },
  {
   "cell_type": "markdown",
   "metadata": {},
   "source": [
    "#### Paquetes Utilizados"
   ]
  },
  {
   "cell_type": "markdown",
   "metadata": {},
   "source": [
    "Para esta sección, se utilizaron principalmente dos paquetes, [Pandas](https://pandas.pydata.org/docs/) y [Matplotlib](https://matplotlib.org/3.2.1/contents.html). Pandas es un paquete que permite trabajar con estructuras de datos multidimensionales que pueden ser de forma tabular, ordenada o no ordenada, que incluyan observaciones y variables en renglones y columnas. Este paquete permite trabajar con bases de datos y relacionarlas entre sí, por medio de índices. La estructura de datos utilizada para trabajar en nuestro proyecto fue el Dataframe, que es una estructura en dos dimensiones donde cada fila representa una observación y cada columna una variable. Pandas permite manipular estos objetos de forma amigable por lo que se vuelve una herramienta muy útil para la ciencia de datos. En esta sección, se utilizaron múltiples funciones y métodos asociados a los objetos de pandas. Iniciando con la importación de los datos de un formato csv con la función <pd.read_csv()> que permitió leer la base de datos original y almacenarla en un objeto DataFrame. Después con los métodos <.isnan()> y <.sum()>; su uso en conjunto permitió identificar el número de valores faltantes en la base de datos y poder tomar una decisión sobre qué hacer con esas observaciones. Fácilmente se eliminaron con el méthodo <.dropna()> aplicado únicamente sobre columnas específicas. Los otros métodos que permitieron verificar que la base de base de datos estuviera correcta fueron <.unique()> y <.value_counts()>. Ambas permiten eliminar la repetición de los valores que toman las observaciones y determinar si alguno de ellos tiene algún error. Por último, Pandas también permite transformar las variables fácilmente el método de <.transform()>; en este caso se utilizó para reescalar la variable 'User_Score'. Para auxiliar en la identificación de posibles datos atípicos, el método <.describe()> indica los principales estadísticos de interés, incluyendo media, desviación estándar, valores mínimo y máximo y cuartiles. \n",
    "\n",
    "\n",
    "Además de hacer la revisión usando la librería de Pandas, se utilizó Matplotlib para una revisión visual. Matplotlib es una librería que permite visualizar y graficar los datos de una forma sencilla. Es posible generar gráficos con pocas líneas de código y manipular todas las variables de su diseño. Para este proyecto, se utilizó para generar un gráfico de box-plot de las variables de 'User-Score' y 'Critic_Score'. Se creó un objeto tipo <figure> y <Axis> que contienen dos _subplots_ orientados en dos columnas. Con el método <.suptitle()> sobre la figura se le agrega facilmente un título para ambas gráficas. La librería cuenta con diferentes tipos de gráficas, en este caso fue un <.boxplot()> y es un método que afecta a cada uno de los _subplots_. Modificando sus propuedades con <.set_xticklabels()> es posible asignarle un título al eje en cada gráfico. \n",
    "\n",
    "    \n",
    "Ambos paquetes son ampliamente utilizados en la ciencia de datos y en este caso, facilitaron el trabajo de descarga y limpieza de la base de datos. "
   ]
  }
 ],
 "metadata": {
  "kernelspec": {
   "display_name": "Python 3",
   "language": "python",
   "name": "python3"
  },
  "language_info": {
   "codemirror_mode": {
    "name": "ipython",
    "version": 3
   },
   "file_extension": ".py",
   "mimetype": "text/x-python",
   "name": "python",
   "nbconvert_exporter": "python",
   "pygments_lexer": "ipython3",
   "version": "3.7.4"
  }
 },
 "nbformat": 4,
 "nbformat_minor": 4
}
